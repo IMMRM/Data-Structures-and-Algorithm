{
 "cells": [
  {
   "cell_type": "markdown",
   "id": "8c9b5edb",
   "metadata": {},
   "source": [
    "<b>Given an array of positive integers. Find the length of the longest sub-sequence such that elements in the subsequence are consecutive integers, the consecutive numbers can be in any order.\n",
    " \n",
    "\n",
    "Example 1:\n",
    "\n",
    "Input:\n",
    "N = 7\n",
    "a[] = {2,6,1,9,4,5,3}\n",
    "Output:\n",
    "6\n",
    "Explanation:\n",
    "The consecutive numbers here\n",
    "are 1, 2, 3, 4, 5, 6. These 6 \n",
    "numbers form the longest consecutive\n",
    "subsquence.\n",
    "Example 2:\n",
    "\n",
    "Input:\n",
    "N = 7\n",
    "a[] = {1,9,3,10,4,20,2}\n",
    "Output:\n",
    "4\n",
    "Explanation:\n",
    "1, 2, 3, 4 is the longest\n",
    "consecutive subsequence.\n",
    "\n",
    "Your Task:\n",
    "You don't need to read input or print anything. Your task is to complete the function findLongestConseqSubseq() which takes the array arr[] and the size of the array as inputs and returns the length of the longest subsequence of consecutive integers. \n",
    "\n",
    "\n",
    "Expected Time Complexity: O(N).\n",
    "Expected Auxiliary Space: O(N).\n",
    "\n",
    "\n",
    "Constraints:\n",
    "1 <= N <= 105\n",
    "0 <= a[i] <= 105</b>"
   ]
  },
  {
   "cell_type": "code",
   "execution_count": null,
   "id": "d677f3c3",
   "metadata": {},
   "outputs": [],
   "source": [
    "### Solution"
   ]
  }
 ],
 "metadata": {
  "kernelspec": {
   "display_name": "Python 3 (ipykernel)",
   "language": "python",
   "name": "python3"
  },
  "language_info": {
   "codemirror_mode": {
    "name": "ipython",
    "version": 3
   },
   "file_extension": ".py",
   "mimetype": "text/x-python",
   "name": "python",
   "nbconvert_exporter": "python",
   "pygments_lexer": "ipython3",
   "version": "3.9.12"
  }
 },
 "nbformat": 4,
 "nbformat_minor": 5
}
