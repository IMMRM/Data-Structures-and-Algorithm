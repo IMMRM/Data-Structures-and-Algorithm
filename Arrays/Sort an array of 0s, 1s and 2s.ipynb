{
 "cells": [
  {
   "cell_type": "markdown",
   "id": "356f3620",
   "metadata": {},
   "source": [
    "### Question: "
   ]
  },
  {
   "cell_type": "markdown",
   "id": "d14ab035",
   "metadata": {},
   "source": [
    "<b>Given an array of positive integers. Find the length of the longest sub-sequence such that elements in the subsequence are consecutive integers, the consecutive numbers can be in any order.\n",
    " \n",
    "\n",
    "Example 1:\n",
    "\n",
    "Input:\n",
    "N = 7\n",
    "a[] = {2,6,1,9,4,5,3}\n",
    "Output:\n",
    "6\n",
    "Explanation:\n",
    "The consecutive numbers here\n",
    "are 1, 2, 3, 4, 5, 6. These 6 \n",
    "numbers form the longest consecutive\n",
    "subsquence.\n",
    "Example 2:\n",
    "\n",
    "Input:\n",
    "N = 7\n",
    "a[] = {1,9,3,10,4,20,2}\n",
    "Output:\n",
    "4\n",
    "Explanation:\n",
    "1, 2, 3, 4 is the longest\n",
    "consecutive subsequence.\n",
    "\n",
    "Your Task:\n",
    "You don't need to read input or print anything. Your task is to complete the function findLongestConseqSubseq() which takes the array arr[] and the size of the array as inputs and returns the length of the longest subsequence of consecutive integers. \n",
    "\n",
    "\n",
    "Expected Time Complexity: O(N).\n",
    "Expected Auxiliary Space: O(N).\n",
    "\n",
    "\n",
    "Constraints:\n",
    "1 <= N <= 105\n",
    "0 <= a[i] <= 105</b>"
   ]
  },
  {
   "cell_type": "markdown",
   "id": "53218524",
   "metadata": {},
   "source": [
    "### Solution:\n",
    "\n",
    "Initially I tried solving this question via two pointers but couldn't do it\n",
    "One brute force approach to solve this is by sorting the array. This will lead to a time complexity of <b>O(nlogn)</b>\n",
    "\n",
    "* Next another way of solving this would be using Counting Sort\n",
    "We'll iterate through the array and have three variables zero, one and two and will count the zeroes, ones and twoes and will update the variable accordingly.\n",
    "\n",
    "Then we'll create a new array and drop #of zeroes first, then #of ones and then #of two.\n",
    "\n",
    "This approach will take O(N)+O(N)=O(2N) time complexity and a space complexity of O(N).\n",
    "\n",
    "* The best method to solve this questionn is using DNF Algorithm (Dutch National Flag)\n",
    "in O(N) Time complexity.\n"
   ]
  },
  {
   "cell_type": "markdown",
   "id": "c67084e0",
   "metadata": {},
   "source": [
    "Best source to refer algo: <a>https://www.javatpoint.com/daa-dutch-national-flag</a>"
   ]
  },
  {
   "cell_type": "markdown",
   "id": "a763644e",
   "metadata": {},
   "source": [
    "* Code"
   ]
  },
  {
   "cell_type": "markdown",
   "id": "a4006152",
   "metadata": {},
   "source": [
    "```python\n",
    "class Solution:\n",
    "    def swap(self,arr,a,b):\n",
    "        temp=arr[a]\n",
    "        arr[a]=arr[b]\n",
    "        arr[b]=temp\n",
    "    def sort012(self,arr,n):\n",
    "        # code here\n",
    "        low,mid,high=0,0,n-1\n",
    "        while(mid<=high):\n",
    "            if(arr[mid]==0):\n",
    "                self.swap(arr,mid,low)\n",
    "                mid+=1\n",
    "                low+=1\n",
    "            elif(arr[mid]==1):\n",
    "                mid+=1\n",
    "            elif(arr[mid]==2):\n",
    "                self.swap(arr,mid,high)\n",
    "                high-=1\n",
    "        return arr\n",
    "```"
   ]
  },
  {
   "cell_type": "markdown",
   "id": "a80bb9b3",
   "metadata": {},
   "source": [
    "<B> Remodified the above code </b>"
   ]
  },
  {
   "cell_type": "markdown",
   "id": "7cde3f6c",
   "metadata": {},
   "source": [
    "```python\n",
    "class Solution:\n",
    "    def sort012(self,arr,n):\n",
    "        # code here\n",
    "        low,mid,high=0,0,n-1\n",
    "        while(mid<=high):\n",
    "            if(arr[mid]==0):\n",
    "                arr[low],arr[mid]=arr[mid],arr[low] #remodified the swap logic\n",
    "                mid+=1\n",
    "                low+=1\n",
    "            elif(arr[mid]==1):\n",
    "                mid+=1\n",
    "            elif(arr[mid]==2):\n",
    "                arr[mid],arr[high]=arr[high],arr[mid]\n",
    "                high-=1\n",
    "        return arr\n",
    "```"
   ]
  },
  {
   "cell_type": "code",
   "execution_count": null,
   "id": "8d95705a",
   "metadata": {},
   "outputs": [],
   "source": []
  }
 ],
 "metadata": {
  "kernelspec": {
   "display_name": "Python 3 (ipykernel)",
   "language": "python",
   "name": "python3"
  },
  "language_info": {
   "codemirror_mode": {
    "name": "ipython",
    "version": 3
   },
   "file_extension": ".py",
   "mimetype": "text/x-python",
   "name": "python",
   "nbconvert_exporter": "python",
   "pygments_lexer": "ipython3",
   "version": "3.9.12"
  }
 },
 "nbformat": 4,
 "nbformat_minor": 5
}
